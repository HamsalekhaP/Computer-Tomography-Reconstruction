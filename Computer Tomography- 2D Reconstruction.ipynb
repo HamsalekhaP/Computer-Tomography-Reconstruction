{
 "cells": [
  {
   "cell_type": "code",
   "execution_count": 1,
   "metadata": {},
   "outputs": [],
   "source": [
    "import numpy as np\n",
    "from scipy import ndimage\n",
    "from sklearn.linear_model import Ridge\n",
    "from sklearn.linear_model import LinearRegression\n",
    "import matplotlib.pyplot as plt"
   ]
  },
  {
   "cell_type": "code",
   "execution_count": 2,
   "metadata": {},
   "outputs": [],
   "source": [
    "image_dim = 60\n",
    "offset_count = 10\n",
    "direction_count = 20000"
   ]
  },
  {
   "cell_type": "markdown",
   "metadata": {},
   "source": [
    "# Generate synthetic image to be reconstructed"
   ]
  },
  {
   "cell_type": "code",
   "execution_count": 3,
   "metadata": {},
   "outputs": [
    {
     "data": {
      "text/plain": [
       "<matplotlib.image.AxesImage at 0x2366692cb00>"
      ]
     },
     "execution_count": 3,
     "metadata": {},
     "output_type": "execute_result"
    },
    {
     "data": {
      "image/png": "[encoded data removed]",
      "text/plain": [
       "<Figure size 432x288 with 1 Axes>"
      ]
     },
     "metadata": {
      "needs_background": "light"
     },
     "output_type": "display_data"
    }
   ],
   "source": [
    " \n",
    "def generate_synthetic_image(img_dim):\n",
    "    rs = np.random.RandomState(0)\n",
    "    n_pts = 36\n",
    "    x, y = np.ogrid[0:img_dim, 0:img_dim]\n",
    "    mask_outer = (x - img_dim / 2.) ** 2 + (y - img_dim / 2.) ** 2 < (img_dim / 2.) ** 2\n",
    "    mask_outer = y;\n",
    "    mask = np.zeros((img_dim, img_dim))\n",
    "    points = img_dim * rs.rand(2, n_pts)\n",
    "    mask[(points[0]).astype(np.int), (points[1]).astype(np.int)] = 1\n",
    "    mask = ndimage.gaussian_filter(mask, sigma=img_dim / n_pts)\n",
    "    res = np.logical_and(mask > mask.mean(), mask_outer)\n",
    "    return np.logical_xor(res, ndimage.binary_erosion(res))\n",
    "\n",
    "data = generate_synthetic_image(image_dim)\n",
    "plt.figure;plt.subplot(121);plt.axis('off')\n",
    "plt.imshow(data, cmap=plt.cm.gray, interpolation='nearest')\n"
   ]
  },
  {
   "cell_type": "code",
   "execution_count": 4,
   "metadata": {},
   "outputs": [],
   "source": [
    "# Generate a set of coordinate matrices to be used for matrix rotation\n",
    "def generate_coordinates(image_dim,offset):\n",
    "    X, Y = np.mgrid[:image_dim, :image_dim].astype(np.float64)\n",
    "    center = image_dim * offset\n",
    "    X += 0.5 - center\n",
    "    Y += 0.5 - center\n",
    "    return X, Y"
   ]
  },
  {
   "cell_type": "markdown",
   "metadata": {},
   "source": [
    "# Generating reconstruction matrix A"
   ]
  },
  {
   "cell_type": "code",
   "execution_count": 5,
   "metadata": {},
   "outputs": [],
   "source": [
    "def generate_A(img_dim, dirn_count, offset_count):\n",
    "    # Dimensions of the design matrix A: number of rays(rotated lines) used * offset count X total of number of pixels in image\n",
    "    A = np.zeros((dirn_count*offset_count,img_dim**2))\n",
    "    onesmat = np.ones((img_dim, img_dim))\n",
    "    angles = np.linspace(0, np.pi, dirn_count, endpoint=False) \n",
    "    offsets=np.linspace(0,1,offset_count)\n",
    "    for j,offset in enumerate(offsets):\n",
    "        X, Y = generate_coordinates(img_dim,offset)\n",
    "        for i, angle in enumerate(angles):\n",
    "            # Create a matrix rotated by angle, xor with a ones matrix to get matrix with all zeros except along one axis\n",
    "            Xrot = np.round(np.cos(angle) * X - np.sin(angle) * Y)\n",
    "            #### Replace Xrot matrix with a mask that will pick out only the zero values from the Xrot matrix.\n",
    "            Xrot = 1*np.logical_xor(Xrot,onesmat)\n",
    "            Arow = np.ravel(Xrot)\n",
    "            # Insert Arow into the appropriate row of A\n",
    "            A[j*(offset_count+2)+i,:] = Arow\n",
    "\n",
    "    # Generate y from which we will reconstruct x\n",
    "    # Here,the true image is vectorized as a result of which data_y is also vectorized\n",
    "    data_y = A @ data.ravel()[:, np.newaxis]\n",
    "    return data_y, A\n"
   ]
  },
  {
   "cell_type": "markdown",
   "metadata": {},
   "source": [
    "# Run Ridge Regression and display images"
   ]
  },
  {
   "cell_type": "code",
   "execution_count": 6,
   "metadata": {},
   "outputs": [
    {
     "data": {
      "text/plain": [
       "<matplotlib.image.AxesImage at 0x237be090e10>"
      ]
     },
     "execution_count": 6,
     "metadata": {},
     "output_type": "execute_result"
    },
    {
     "data": {
      "image/png": "[encoded data removed]",
      "text/plain": [
       "<Figure size 432x288 with 2 Axes>"
      ]
     },
     "metadata": {
      "needs_background": "light"
     },
     "output_type": "display_data"
    }
   ],
   "source": [
    "data_y, A_mat = generate_A(image_dim, direction_count, offset_count)\n",
    "\n",
    "# Run ridge regression with lambda = 0.01\n",
    "rgr_ridge = Ridge(alpha=0.01)\n",
    "rgr_ridge.fit(A_mat, data_y.ravel()[:, np.newaxis])\n",
    "\n",
    "# The reconstructed image will be vectorized as the true image was vectorized \n",
    "# This will need to be de-vectorised. Hence the reshaping\n",
    "rec_l2 = rgr_ridge.coef_.reshape(image_dim, image_dim)\n",
    "\n",
    "plt.figure; plt.subplot(121); plt.axis('off'); plt.title('Original image')\n",
    "plt.imshow(data, cmap=plt.cm.gray, interpolation='nearest')\n",
    "\n",
    "\n",
    "plt.subplot(122); plt.title('Reconstructed image'); plt.axis('off')\n",
    "plt.imshow(rec_l2, cmap=plt.cm.gray, interpolation='nearest')\n"
   ]
  }
 ],
 "metadata": {
  "kernelspec": {
   "display_name": "Python 3",
   "language": "python",
   "name": "python3"
  },
  "language_info": {
   "codemirror_mode": {
    "name": "ipython",
    "version": 3
   },
   "file_extension": ".py",
   "mimetype": "text/x-python",
   "name": "python",
   "nbconvert_exporter": "python",
   "pygments_lexer": "ipython3",
   "version": "3.7.3"
  }
 },
 "nbformat": 4,
 "nbformat_minor": 2
}
